{
 "cells": [
  {
   "cell_type": "markdown",
   "id": "3917b353-199f-4a3d-940e-eb92bf96988d",
   "metadata": {},
   "source": [
    "# Acknowledgement\n",
    "\n",
    "https://d2l.ai/chapter_linear-classification/softmax-regression-scratch.html#the-cross-entropy-loss"
   ]
  },
  {
   "cell_type": "code",
   "execution_count": 1,
   "id": "88b7e45f-33f4-42ac-a6f7-fef8b29d89ec",
   "metadata": {},
   "outputs": [],
   "source": [
    "import torch\n",
    "from d2l import torch as d2l"
   ]
  },
  {
   "cell_type": "code",
   "execution_count": null,
   "id": "bda8b28d-4221-4575-9edc-a2bf20dd1552",
   "metadata": {},
   "outputs": [],
   "source": []
  }
 ],
 "metadata": {
  "kernelspec": {
   "display_name": "Python 3 (ipykernel)",
   "language": "python",
   "name": "python3"
  },
  "language_info": {
   "codemirror_mode": {
    "name": "ipython",
    "version": 3
   },
   "file_extension": ".py",
   "mimetype": "text/x-python",
   "name": "python",
   "nbconvert_exporter": "python",
   "pygments_lexer": "ipython3",
   "version": "3.9.6"
  }
 },
 "nbformat": 4,
 "nbformat_minor": 5
}
