{
 "cells": [
  {
   "cell_type": "markdown",
   "id": "256b0f3b-53b4-4bc8-aecd-95749f0cdce6",
   "metadata": {},
   "source": [
    "# Schur Decomposition"
   ]
  },
  {
   "cell_type": "code",
   "execution_count": 15,
   "id": "e910abf6-3094-424c-93ae-cb0b59594071",
   "metadata": {},
   "outputs": [
    {
     "name": "stdout",
     "output_type": "stream",
     "text": [
      "Z = \n",
      "[[ 0.73 -0.6   0.33]\n",
      " [ 0.53  0.8   0.29]\n",
      " [ 0.44  0.04 -0.9 ]]\n",
      "\n",
      "T = \n",
      "[[ 2.66  1.42 -1.93]\n",
      " [ 0.   -0.33 -0.49]\n",
      " [ 0.    1.31 -0.33]]\n",
      "\n",
      "Z^H = \n",
      "[[ 0.73  0.53  0.44]\n",
      " [-0.6   0.8   0.04]\n",
      " [ 0.33  0.29 -0.9 ]]\n",
      "\n",
      "^^^ Observe how Z^H is the transpose of Z in this case (since Z only has real values) ^^^\n",
      "\n",
      "Z * T * Z^H = \n",
      "[[-8.21e-16  2.00e+00  2.00e+00]\n",
      " [-4.00e-16  1.00e+00  2.00e+00]\n",
      " [ 1.00e+00  1.49e-17  1.00e+00]]\n",
      "\n",
      "A = \n",
      "[[0 2 2]\n",
      " [0 1 2]\n",
      " [1 0 1]]\n",
      "\n",
      "^^^ Z * T * Z^H is almost equal to A (due to limitations in floating point precision) ^^^\n"
     ]
    }
   ],
   "source": [
    "# Credit: Code snippet inspired by https://docs.scipy.org/doc/scipy/reference/generated/scipy.linalg.schur.html\n",
    "# Additional code and comments have been added for clearer explanation\n",
    "\n",
    "import numpy as np  # For matrix multiplication\n",
    "from scipy.linalg import schur  # Schur decomposition package\n",
    "\n",
    "np.set_printoptions(2) # Print all floats to 2 significant figures, and suppresses scientific notation\n",
    "\n",
    "A = np.array([[0, 2, 2], [0, 1, 2], [1, 0, 1]]) # 3x3 matrix\n",
    "T, Z = schur(A) # A = Z * T * Z^H\n",
    "\n",
    "\"\"\"\n",
    "Explanation:\n",
    "\n",
    "1) np.asmatrix(Z) converts the numpy ndarray Z into a numpy matrix\n",
    "    -> The reason we did this is to get access to the .getH() method of the numpy matrix class\n",
    "\n",
    "2) numpy.matrix.getH()\n",
    "    -> Returns the conjugate transpose of the matrix\n",
    "    -> For matrices with only real values, .getH() simply returns the transpose of the matrix\n",
    "\"\"\"\n",
    "ZT = np.matmul(Z, T)\n",
    "ZH = np.asmatrix(Z).getH()\n",
    "ZTZH = np.matmul(ZT, ZH)\n",
    "\n",
    "# Print out the results\n",
    "print(f\"Z = \\n{Z}\\n\")\n",
    "print(f\"T = \\n{T}\\n\")\n",
    "print(f\"Z^H = \\n{ZH}\\n\")\n",
    "print(\"^^^ Observe how Z^H is the transpose of Z in this case (since Z only has real values) ^^^\\n\")\n",
    "print(f\"Z * T * Z^H = \\n{ZTZH}\\n\")\n",
    "print(f\"A = \\n{A}\\n\")\n",
    "print(\"^^^ Z * T * Z^H is almost equal to A (due to limitations in floating point precision) ^^^\")"
   ]
  },
  {
   "cell_type": "markdown",
   "id": "c18526f9-ff91-4f7f-8582-999d26872a62",
   "metadata": {},
   "source": [
    "# QR Factorization"
   ]
  },
  {
   "cell_type": "code",
   "execution_count": 16,
   "id": "1699dbf1-681e-44c6-b4ef-fbc3d9cd5393",
   "metadata": {},
   "outputs": [
    {
     "name": "stdout",
     "output_type": "stream",
     "text": [
      "Q = \n",
      "[[-0.49 -0.26  0.74 -0.38]\n",
      " [-0.2  -0.66  0.01  0.72]\n",
      " [-0.78  0.53 -0.19  0.26]\n",
      " [ 0.33  0.47  0.65  0.51]]\n",
      "\n",
      "R = \n",
      "[[ 1.72 -1.11 -0.39  0.27]\n",
      " [ 0.    1.82 -0.99 -0.36]\n",
      " [ 0.    0.    0.11 -1.61]\n",
      " [ 0.    0.    0.   -0.2 ]]\n",
      "\n",
      "^^^ Notice how R is upper triangular ^^^\n",
      "\n",
      "Q * R = \n",
      "[[-0.83  0.06  0.53 -1.15]\n",
      " [-0.35 -0.97  0.73  0.03]\n",
      " [-1.35  1.83 -0.24 -0.15]\n",
      " [ 0.57  0.48 -0.52 -1.22]]\n",
      "\n",
      "A = \n",
      "[[-0.83  0.06  0.53 -1.15]\n",
      " [-0.35 -0.97  0.73  0.03]\n",
      " [-1.35  1.83 -0.24 -0.15]\n",
      " [ 0.57  0.48 -0.52 -1.22]]\n",
      "\n",
      "^^^ Q * R is almost equal to A (due to limitations in floating point precision) ^^^\n"
     ]
    }
   ],
   "source": [
    "# Credit: Code snippet inspired by https://numpy.org/doc/stable/reference/generated/numpy.linalg.qr.html\n",
    "# Additional code and comments have been added for clearer explanation\n",
    "\n",
    "import numpy as np\n",
    "\n",
    "np.set_printoptions(2)  # Print all floats to 2 significant figures, and suppresses scientific notation\n",
    "\n",
    "rng = np.random.default_rng()  # Sets up random number generator\n",
    "\n",
    "A = rng.normal(size=(4, 4))  # 4x4 matrix, where each number is drawn from a normal distribution\n",
    "Q, R = np.linalg.qr(A)  # A = Q * R\n",
    "QR = np.matmul(Q, R)\n",
    "\n",
    "print(f\"Q = \\n{Q}\\n\")\n",
    "print(f\"R = \\n{R}\\n\")\n",
    "print(\"^^^ Notice how R is upper triangular ^^^\\n\")\n",
    "print(f\"Q * R = \\n{QR}\\n\")\n",
    "print(f\"A = \\n{A}\\n\")\n",
    "print(\"^^^ Q * R is almost equal to A (due to limitations in floating point precision) ^^^\")"
   ]
  },
  {
   "cell_type": "markdown",
   "id": "dbc5299b-6073-4302-b703-836c9602ab5a",
   "metadata": {},
   "source": [
    "# Cholesky Decomposition"
   ]
  },
  {
   "cell_type": "code",
   "execution_count": 39,
   "id": "98e16f1e-e5c2-4a97-a087-854936df5e3c",
   "metadata": {},
   "outputs": [
    {
     "name": "stdout",
     "output_type": "stream",
     "text": [
      "L = \n",
      "[[ 5.  0.  0.]\n",
      " [ 3.  3.  0.]\n",
      " [-1.  1.  3.]]\n",
      "\n",
      "L^T = \n",
      "[[ 5.  3. -1.]\n",
      " [ 0.  3.  1.]\n",
      " [ 0.  0.  3.]]\n",
      "\n",
      "^^^ Notice how L is lower-triangular and its transpose is upper-triangular^^^\n",
      "\n",
      "L * L^T = \n",
      "[[25. 15. -5.]\n",
      " [15. 18.  0.]\n",
      " [-5.  0. 11.]]\n",
      "\n",
      "A = \n",
      "[[25 15 -5]\n",
      " [15 18  0]\n",
      " [-5  0 11]]\n",
      "\n",
      "^^^ L * L^T is almost equal to A (due to limitations in floating point precision) ^^^\n"
     ]
    }
   ],
   "source": [
    "import numpy as np\n",
    "\n",
    "A = np.matrix([[25, 15, -5], [15, 18, 0], [-5, 0, 11]])\n",
    "L = np.linalg.cholesky(A)\n",
    "LT = L.transpose()\n",
    "LLT = np.matmul(L, LT)\n",
    "\n",
    "print(f\"L = \\n{L}\\n\")\n",
    "print(f\"L^T = \\n{LT}\\n\")\n",
    "print(\"^^^ Notice how L is lower-triangular and its transpose is upper-triangular^^^\\n\")\n",
    "print(f\"L * L^T = \\n{LLT}\\n\")\n",
    "print(f\"A = \\n{A}\\n\")\n",
    "print(\"^^^ L * L^T is almost equal to A (due to limitations in floating point precision) ^^^\")"
   ]
  },
  {
   "cell_type": "code",
   "execution_count": null,
   "id": "50bb9234-e09c-4f72-8b8a-d6c5400befc7",
   "metadata": {},
   "outputs": [],
   "source": []
  }
 ],
 "metadata": {
  "kernelspec": {
   "display_name": "Python 3 (ipykernel)",
   "language": "python",
   "name": "python3"
  },
  "language_info": {
   "codemirror_mode": {
    "name": "ipython",
    "version": 3
   },
   "file_extension": ".py",
   "mimetype": "text/x-python",
   "name": "python",
   "nbconvert_exporter": "python",
   "pygments_lexer": "ipython3",
   "version": "3.9.6"
  }
 },
 "nbformat": 4,
 "nbformat_minor": 5
}
