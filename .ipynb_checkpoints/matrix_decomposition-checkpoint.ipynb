{
 "cells": [
  {
   "cell_type": "markdown",
   "id": "256b0f3b-53b4-4bc8-aecd-95749f0cdce6",
   "metadata": {},
   "source": [
    "# Schur Decomposition"
   ]
  },
  {
   "cell_type": "code",
   "execution_count": 15,
   "id": "e910abf6-3094-424c-93ae-cb0b59594071",
   "metadata": {},
   "outputs": [
    {
     "name": "stdout",
     "output_type": "stream",
     "text": [
      "Z = \n",
      "[[ 0.73 -0.6   0.33]\n",
      " [ 0.53  0.8   0.29]\n",
      " [ 0.44  0.04 -0.9 ]]\n",
      "\n",
      "T = \n",
      "[[ 2.66  1.42 -1.93]\n",
      " [ 0.   -0.33 -0.49]\n",
      " [ 0.    1.31 -0.33]]\n",
      "\n",
      "Z^H = \n",
      "[[ 0.73  0.53  0.44]\n",
      " [-0.6   0.8   0.04]\n",
      " [ 0.33  0.29 -0.9 ]]\n",
      "\n",
      "^^^ Observe how Z^H is the transpose of Z in this case (since Z only has real values) ^^^\n",
      "\n",
      "Z * T * Z^H = \n",
      "[[-8.21e-16  2.00e+00  2.00e+00]\n",
      " [-4.00e-16  1.00e+00  2.00e+00]\n",
      " [ 1.00e+00  1.49e-17  1.00e+00]]\n",
      "\n",
      "A = \n",
      "[[0 2 2]\n",
      " [0 1 2]\n",
      " [1 0 1]]\n",
      "\n",
      "^^^ Z * T * Z^H is almost equal to A (due to limitations in floating point precision) ^^^\n"
     ]
    }
   ],
   "source": [
    "# Credit: Code snippet inspired by https://docs.scipy.org/doc/scipy/reference/generated/scipy.linalg.schur.html\n",
    "# Additional code and comments have been added for clearer explanation\n",
    "\n",
    "import numpy as np  # For matrix multiplication\n",
    "from scipy.linalg import schur  # Schur decomposition package\n",
    "\n",
    "np.set_printoptions(2) # Print all floats to 2 significant figures, and suppresses scientific notation\n",
    "\n",
    "A = np.array([[0, 2, 2], [0, 1, 2], [1, 0, 1]]) # 3x3 matrix\n",
    "T, Z = schur(A) # A = Z * T * Z^H\n",
    "\n",
    "\"\"\"\n",
    "Explanation:\n",
    "\n",
    "1) np.asmatrix(Z) converts the numpy ndarray Z into a numpy matrix\n",
    "    -> The reason we did this is to get access to the .getH() method of the numpy matrix class\n",
    "\n",
    "2) numpy.matrix.getH()\n",
    "    -> Returns the conjugate transpose of the matrix\n",
    "    -> For matrices with only real values, .getH() simply returns the transpose of the matrix\n",
    "\"\"\"\n",
    "ZT = np.matmul(Z, T)\n",
    "ZH = np.asmatrix(Z).getH()\n",
    "ZTZH = np.matmul(ZT, ZH)\n",
    "\n",
    "# Print out the results\n",
    "print(f\"Z = \\n{Z}\\n\")\n",
    "print(f\"T = \\n{T}\\n\")\n",
    "print(f\"Z^H = \\n{ZH}\\n\")\n",
    "print(\"^^^ Observe how Z^H is the transpose of Z in this case (since Z only has real values) ^^^\\n\")\n",
    "print(f\"Z * T * Z^H = \\n{ZTZH}\\n\")\n",
    "print(f\"A = \\n{A}\\n\")\n",
    "print(\"^^^ Z * T * Z^H is almost equal to A (due to limitations in floating point precision) ^^^\")"
   ]
  },
  {
   "cell_type": "markdown",
   "id": "c18526f9-ff91-4f7f-8582-999d26872a62",
   "metadata": {},
   "source": [
    "# QR Factorization"
   ]
  },
  {
   "cell_type": "code",
   "execution_count": 16,
   "id": "1699dbf1-681e-44c6-b4ef-fbc3d9cd5393",
   "metadata": {},
   "outputs": [
    {
     "name": "stdout",
     "output_type": "stream",
     "text": [
      "Q = \n",
      "[[-0.49 -0.26  0.74 -0.38]\n",
      " [-0.2  -0.66  0.01  0.72]\n",
      " [-0.78  0.53 -0.19  0.26]\n",
      " [ 0.33  0.47  0.65  0.51]]\n",
      "\n",
      "R = \n",
      "[[ 1.72 -1.11 -0.39  0.27]\n",
      " [ 0.    1.82 -0.99 -0.36]\n",
      " [ 0.    0.    0.11 -1.61]\n",
      " [ 0.    0.    0.   -0.2 ]]\n",
      "\n",
      "^^^ Notice how R is upper triangular ^^^\n",
      "\n",
      "Q * R = \n",
      "[[-0.83  0.06  0.53 -1.15]\n",
      " [-0.35 -0.97  0.73  0.03]\n",
      " [-1.35  1.83 -0.24 -0.15]\n",
      " [ 0.57  0.48 -0.52 -1.22]]\n",
      "\n",
      "A = \n",
      "[[-0.83  0.06  0.53 -1.15]\n",
      " [-0.35 -0.97  0.73  0.03]\n",
      " [-1.35  1.83 -0.24 -0.15]\n",
      " [ 0.57  0.48 -0.52 -1.22]]\n",
      "\n",
      "^^^ Q * R is almost equal to A (due to limitations in floating point precision) ^^^\n"
     ]
    }
   ],
   "source": [
    "# Credit: Code snippet inspired by https://numpy.org/doc/stable/reference/generated/numpy.linalg.qr.html\n",
    "# Additional code and comments have been added for clearer explanation\n",
    "\n",
    "import numpy as np\n",
    "\n",
    "np.set_printoptions(2)  # Print all floats to 2 significant figures, and suppresses scientific notation\n",
    "\n",
    "rng = np.random.default_rng()  # Sets up random number generator\n",
    "\n",
    "A = rng.normal(size=(4, 4))  # 4x4 matrix, where each number is drawn from a normal distribution\n",
    "Q, R = np.linalg.qr(A)  # A = Q * R\n",
    "QR = np.matmul(Q, R)\n",
    "\n",
    "print(f\"Q = \\n{Q}\\n\")\n",
    "print(f\"R = \\n{R}\\n\")\n",
    "print(\"^^^ Notice how R is upper triangular ^^^\\n\")\n",
    "print(f\"Q * R = \\n{QR}\\n\")\n",
    "print(f\"A = \\n{A}\\n\")\n",
    "print(\"^^^ Q * R is almost equal to A (due to limitations in floating point precision) ^^^\")"
   ]
  },
  {
   "cell_type": "markdown",
   "id": "dbc5299b-6073-4302-b703-836c9602ab5a",
   "metadata": {},
   "source": [
    "# Cholesky Decomposition"
   ]
  },
  {
   "cell_type": "code",
   "execution_count": 1,
   "id": "98e16f1e-e5c2-4a97-a087-854936df5e3c",
   "metadata": {},
   "outputs": [
    {
     "name": "stdout",
     "output_type": "stream",
     "text": [
      "L = \n",
      "[[ 5.  0.  0.]\n",
      " [ 3.  3.  0.]\n",
      " [-1.  1.  3.]]\n",
      "\n",
      "L^T = \n",
      "[[ 5.  3. -1.]\n",
      " [ 0.  3.  1.]\n",
      " [ 0.  0.  3.]]\n",
      "\n",
      "^^^ Notice how L is lower-triangular and its transpose is upper-triangular^^^\n",
      "\n",
      "L * L^T = \n",
      "[[25. 15. -5.]\n",
      " [15. 18.  0.]\n",
      " [-5.  0. 11.]]\n",
      "\n",
      "A = \n",
      "[[25 15 -5]\n",
      " [15 18  0]\n",
      " [-5  0 11]]\n",
      "\n",
      "^^^ L * L^T is almost equal to A (due to limitations in floating point precision) ^^^\n"
     ]
    },
    {
     "ename": "LinAlgError",
     "evalue": "Matrix is not positive definite",
     "output_type": "error",
     "traceback": [
      "\u001b[0;31m---------------------------------------------------------------------------\u001b[0m",
      "\u001b[0;31mLinAlgError\u001b[0m                               Traceback (most recent call last)",
      "Cell \u001b[0;32mIn[1], line 17\u001b[0m\n\u001b[1;32m     13\u001b[0m \u001b[38;5;28mprint\u001b[39m(\u001b[38;5;124m\"\u001b[39m\u001b[38;5;124m^^^ L * L^T is almost equal to A (due to limitations in floating point precision) ^^^\u001b[39m\u001b[38;5;124m\"\u001b[39m)\n\u001b[1;32m     16\u001b[0m B \u001b[38;5;241m=\u001b[39m np\u001b[38;5;241m.\u001b[39mmatrix([[\u001b[38;5;241m1\u001b[39m, \u001b[38;5;241m1\u001b[39m, \u001b[38;5;241m-\u001b[39m\u001b[38;5;241m1\u001b[39m], [\u001b[38;5;241m-\u001b[39m\u001b[38;5;241m1\u001b[39m, \u001b[38;5;241m-\u001b[39m\u001b[38;5;241m2\u001b[39m, \u001b[38;5;241m0\u001b[39m], [\u001b[38;5;241m5\u001b[39m, \u001b[38;5;241m0\u001b[39m, \u001b[38;5;241m-\u001b[39m\u001b[38;5;241m11\u001b[39m]])\n\u001b[0;32m---> 17\u001b[0m L \u001b[38;5;241m=\u001b[39m \u001b[43mnp\u001b[49m\u001b[38;5;241;43m.\u001b[39;49m\u001b[43mlinalg\u001b[49m\u001b[38;5;241;43m.\u001b[39;49m\u001b[43mcholesky\u001b[49m\u001b[43m(\u001b[49m\u001b[43mB\u001b[49m\u001b[43m)\u001b[49m\n",
      "File \u001b[0;32m<__array_function__ internals>:180\u001b[0m, in \u001b[0;36mcholesky\u001b[0;34m(*args, **kwargs)\u001b[0m\n",
      "File \u001b[0;32m~/Library/Python/3.9/lib/python/site-packages/numpy/linalg/linalg.py:770\u001b[0m, in \u001b[0;36mcholesky\u001b[0;34m(a)\u001b[0m\n\u001b[1;32m    768\u001b[0m t, result_t \u001b[38;5;241m=\u001b[39m _commonType(a)\n\u001b[1;32m    769\u001b[0m signature \u001b[38;5;241m=\u001b[39m \u001b[38;5;124m'\u001b[39m\u001b[38;5;124mD->D\u001b[39m\u001b[38;5;124m'\u001b[39m \u001b[38;5;28;01mif\u001b[39;00m isComplexType(t) \u001b[38;5;28;01melse\u001b[39;00m \u001b[38;5;124m'\u001b[39m\u001b[38;5;124md->d\u001b[39m\u001b[38;5;124m'\u001b[39m\n\u001b[0;32m--> 770\u001b[0m r \u001b[38;5;241m=\u001b[39m \u001b[43mgufunc\u001b[49m\u001b[43m(\u001b[49m\u001b[43ma\u001b[49m\u001b[43m,\u001b[49m\u001b[43m \u001b[49m\u001b[43msignature\u001b[49m\u001b[38;5;241;43m=\u001b[39;49m\u001b[43msignature\u001b[49m\u001b[43m,\u001b[49m\u001b[43m \u001b[49m\u001b[43mextobj\u001b[49m\u001b[38;5;241;43m=\u001b[39;49m\u001b[43mextobj\u001b[49m\u001b[43m)\u001b[49m\n\u001b[1;32m    771\u001b[0m \u001b[38;5;28;01mreturn\u001b[39;00m wrap(r\u001b[38;5;241m.\u001b[39mastype(result_t, copy\u001b[38;5;241m=\u001b[39m\u001b[38;5;28;01mFalse\u001b[39;00m))\n",
      "File \u001b[0;32m~/Library/Python/3.9/lib/python/site-packages/numpy/linalg/linalg.py:92\u001b[0m, in \u001b[0;36m_raise_linalgerror_nonposdef\u001b[0;34m(err, flag)\u001b[0m\n\u001b[1;32m     91\u001b[0m \u001b[38;5;28;01mdef\u001b[39;00m \u001b[38;5;21m_raise_linalgerror_nonposdef\u001b[39m(err, flag):\n\u001b[0;32m---> 92\u001b[0m     \u001b[38;5;28;01mraise\u001b[39;00m LinAlgError(\u001b[38;5;124m\"\u001b[39m\u001b[38;5;124mMatrix is not positive definite\u001b[39m\u001b[38;5;124m\"\u001b[39m)\n",
      "\u001b[0;31mLinAlgError\u001b[0m: Matrix is not positive definite"
     ]
    }
   ],
   "source": [
    "import numpy as np\n",
    "\n",
    "A = np.matrix([[25, 15, -5], [15, 18, 0], [-5, 0, 11]])\n",
    "L = np.linalg.cholesky(A)\n",
    "LT = L.transpose()\n",
    "LLT = np.matmul(L, LT)\n",
    "\n",
    "print(f\"L = \\n{L}\\n\")\n",
    "print(f\"L^T = \\n{LT}\\n\")\n",
    "print(\"^^^ Notice how L is lower-triangular and its transpose is upper-triangular^^^\\n\")\n",
    "print(f\"L * L^T = \\n{LLT}\\n\")\n",
    "print(f\"A = \\n{A}\\n\")\n",
    "print(\"^^^ L * L^T is almost equal to A (due to limitations in floating point precision) ^^^\")\n",
    "\n",
    "# Note how Cholesky decomposition does not work on non-positive-definite matrices (THIS WILL THROW AN ERROR)\n",
    "B = np.matrix([[1, 1, -1], [-1, -2, 0], [5, 0, -11]])\n",
    "L = np.linalg.cholesky(B)"
   ]
  },
  {
   "cell_type": "code",
   "execution_count": null,
   "id": "50bb9234-e09c-4f72-8b8a-d6c5400befc7",
   "metadata": {},
   "outputs": [],
   "source": []
  }
 ],
 "metadata": {
  "kernelspec": {
   "display_name": "Python 3 (ipykernel)",
   "language": "python",
   "name": "python3"
  },
  "language_info": {
   "codemirror_mode": {
    "name": "ipython",
    "version": 3
   },
   "file_extension": ".py",
   "mimetype": "text/x-python",
   "name": "python",
   "nbconvert_exporter": "python",
   "pygments_lexer": "ipython3",
   "version": "3.9.6"
  }
 },
 "nbformat": 4,
 "nbformat_minor": 5
}
