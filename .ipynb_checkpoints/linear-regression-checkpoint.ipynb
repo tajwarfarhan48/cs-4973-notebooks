{
 "cells": [
  {
   "cell_type": "markdown",
   "metadata": {},
   "source": [
    "# Why Linear Regression?\n",
    "\n",
    "- Sometimes, we need to predict a continuous quantity (e.g. the price of a house, number of people in a house) based on relevant factors (e.g. square foot, number of bedrooms, location)\n",
    "\n",
    "- Linear regression is a machine learning algorithm to train a computer to make such predictions accurately"
   ]
  },
  {
   "cell_type": "markdown",
   "metadata": {},
   "source": [
    "# Mathematical Setup\n",
    "\n",
    "- X<sub>1</sub>, X<sub>2</sub>, ... X<sub>n</sub> - Features (i.e. factors, e.g. car manufacturer, car age, number of doors)\n",
    "\n",
    "- Y - Label (i.e. the quantity being predicted, e.g., car price)\n",
    "\n",
    "### Relationship between features and label\n",
    "\n",
    "- Linear Regression Assumption - Label varies linearly with feature(s)\n",
    "\n",
    "- <strong>Y = θ<sub>0</sub> + θ<sub>1</sub>X<sub>1</sub> + θ<sub>2</sub>X<sub>2</sub> + ... + θ<sub>n</sub>X<sub>n</sub> + ε</strong>\n",
    "\n",
    "    - θ<sub>i</sub> - Parameter(s): Gives the exact linear relationship of the label with each feature\n",
    "    \n",
    "    - ε - Random Zero-Mean Term: <u>Cannot be predicted</u> exactly; usually to model uncertainty\n",
    "    \n",
    "- Goal: Find θ<sub>0</sub>, θ<sub>1</sub>, θ<sub>2</sub>, ... θ<sub>n</sub> <u>as closely as possible</u>\n",
    "\n",
    "### A more concise representation\n",
    "\n",
    "- Let, X, θ be vectors in R<sup>n+1</sup> \n",
    "\n",
    "    - X = <X<sub>0</sub>, X<sub>1</sub>, X<sub>2</sub>, ... X<sub>n</sub>> where X<sub>0</sub> = 1\n",
    "    \n",
    "    - θ = <θ<sub>0</sub>, θ<sub>1</sub>, θ<sub>2</sub>, ... θ<sub>n</sub>>\n",
    "\n",
    "- Then, <strong>Y = θ<sup>T</sup>X</strong>"
   ]
  },
  {
   "cell_type": "code",
   "execution_count": 3,
   "metadata": {},
   "outputs": [],
   "source": [
    "from sklearn.datasets import load_diabetes"
   ]
  },
  {
   "cell_type": "code",
   "execution_count": 34,
   "metadata": {},
   "outputs": [
    {
     "name": "stdout",
     "output_type": "stream",
     "text": [
      "{'data':           age       sex       bmi        bp        s1        s2        s3  \\\n",
      "0    0.038076  0.050680  0.061696  0.021872 -0.044223 -0.034821 -0.043401   \n",
      "1   -0.001882 -0.044642 -0.051474 -0.026328 -0.008449 -0.019163  0.074412   \n",
      "2    0.085299  0.050680  0.044451 -0.005670 -0.045599 -0.034194 -0.032356   \n",
      "3   -0.089063 -0.044642 -0.011595 -0.036656  0.012191  0.024991 -0.036038   \n",
      "4    0.005383 -0.044642 -0.036385  0.021872  0.003935  0.015596  0.008142   \n",
      "..        ...       ...       ...       ...       ...       ...       ...   \n",
      "437  0.041708  0.050680  0.019662  0.059744 -0.005697 -0.002566 -0.028674   \n",
      "438 -0.005515  0.050680 -0.015906 -0.067642  0.049341  0.079165 -0.028674   \n",
      "439  0.041708  0.050680 -0.015906  0.017293 -0.037344 -0.013840 -0.024993   \n",
      "440 -0.045472 -0.044642  0.039062  0.001215  0.016318  0.015283 -0.028674   \n",
      "441 -0.045472 -0.044642 -0.073030 -0.081413  0.083740  0.027809  0.173816   \n",
      "\n",
      "           s4        s5        s6  \n",
      "0   -0.002592  0.019907 -0.017646  \n",
      "1   -0.039493 -0.068332 -0.092204  \n",
      "2   -0.002592  0.002861 -0.025930  \n",
      "3    0.034309  0.022688 -0.009362  \n",
      "4   -0.002592 -0.031988 -0.046641  \n",
      "..        ...       ...       ...  \n",
      "437 -0.002592  0.031193  0.007207  \n",
      "438  0.034309 -0.018114  0.044485  \n",
      "439 -0.011080 -0.046883  0.015491  \n",
      "440  0.026560  0.044529 -0.025930  \n",
      "441 -0.039493 -0.004222  0.003064  \n",
      "\n",
      "[442 rows x 10 columns], 'target': 0      151.0\n",
      "1       75.0\n",
      "2      141.0\n",
      "3      206.0\n",
      "4      135.0\n",
      "       ...  \n",
      "437    178.0\n",
      "438    104.0\n",
      "439    132.0\n",
      "440    220.0\n",
      "441     57.0\n",
      "Name: target, Length: 442, dtype: float64, 'frame':           age       sex       bmi        bp        s1        s2        s3  \\\n",
      "0    0.038076  0.050680  0.061696  0.021872 -0.044223 -0.034821 -0.043401   \n",
      "1   -0.001882 -0.044642 -0.051474 -0.026328 -0.008449 -0.019163  0.074412   \n",
      "2    0.085299  0.050680  0.044451 -0.005670 -0.045599 -0.034194 -0.032356   \n",
      "3   -0.089063 -0.044642 -0.011595 -0.036656  0.012191  0.024991 -0.036038   \n",
      "4    0.005383 -0.044642 -0.036385  0.021872  0.003935  0.015596  0.008142   \n",
      "..        ...       ...       ...       ...       ...       ...       ...   \n",
      "437  0.041708  0.050680  0.019662  0.059744 -0.005697 -0.002566 -0.028674   \n",
      "438 -0.005515  0.050680 -0.015906 -0.067642  0.049341  0.079165 -0.028674   \n",
      "439  0.041708  0.050680 -0.015906  0.017293 -0.037344 -0.013840 -0.024993   \n",
      "440 -0.045472 -0.044642  0.039062  0.001215  0.016318  0.015283 -0.028674   \n",
      "441 -0.045472 -0.044642 -0.073030 -0.081413  0.083740  0.027809  0.173816   \n",
      "\n",
      "           s4        s5        s6  target  \n",
      "0   -0.002592  0.019907 -0.017646   151.0  \n",
      "1   -0.039493 -0.068332 -0.092204    75.0  \n",
      "2   -0.002592  0.002861 -0.025930   141.0  \n",
      "3    0.034309  0.022688 -0.009362   206.0  \n",
      "4   -0.002592 -0.031988 -0.046641   135.0  \n",
      "..        ...       ...       ...     ...  \n",
      "437 -0.002592  0.031193  0.007207   178.0  \n",
      "438  0.034309 -0.018114  0.044485   104.0  \n",
      "439 -0.011080 -0.046883  0.015491   132.0  \n",
      "440  0.026560  0.044529 -0.025930   220.0  \n",
      "441 -0.039493 -0.004222  0.003064    57.0  \n",
      "\n",
      "[442 rows x 11 columns], 'DESCR': '.. _diabetes_dataset:\\n\\nDiabetes dataset\\n----------------\\n\\nTen baseline variables, age, sex, body mass index, average blood\\npressure, and six blood serum measurements were obtained for each of n =\\n442 diabetes patients, as well as the response of interest, a\\nquantitative measure of disease progression one year after baseline.\\n\\n**Data Set Characteristics:**\\n\\n:Number of Instances: 442\\n\\n:Number of Attributes: First 10 columns are numeric predictive values\\n\\n:Target: Column 11 is a quantitative measure of disease progression one year after baseline\\n\\n:Attribute Information:\\n    - age     age in years\\n    - sex\\n    - bmi     body mass index\\n    - bp      average blood pressure\\n    - s1      tc, total serum cholesterol\\n    - s2      ldl, low-density lipoproteins\\n    - s3      hdl, high-density lipoproteins\\n    - s4      tch, total cholesterol / HDL\\n    - s5      ltg, possibly log of serum triglycerides level\\n    - s6      glu, blood sugar level\\n\\nNote: Each of these 10 feature variables have been mean centered and scaled by the standard deviation times the square root of `n_samples` (i.e. the sum of squares of each column totals 1).\\n\\nSource URL:\\nhttps://www4.stat.ncsu.edu/~boos/var.select/diabetes.html\\n\\nFor more information see:\\nBradley Efron, Trevor Hastie, Iain Johnstone and Robert Tibshirani (2004) \"Least Angle Regression,\" Annals of Statistics (with discussion), 407-499.\\n(https://web.stanford.edu/~hastie/Papers/LARS/LeastAngle_2002.pdf)\\n', 'feature_names': ['age', 'sex', 'bmi', 'bp', 's1', 's2', 's3', 's4', 's5', 's6'], 'data_filename': 'diabetes_data_raw.csv.gz', 'target_filename': 'diabetes_target.csv.gz', 'data_module': 'sklearn.datasets.data'}\n"
     ]
    }
   ],
   "source": [
    "diabetes = load_diabetes(as_frame=True)\n",
    "print(diabetes)"
   ]
  },
  {
   "cell_type": "code",
   "execution_count": null,
   "metadata": {},
   "outputs": [],
   "source": []
  }
 ],
 "metadata": {
  "kernelspec": {
   "display_name": "Python 3",
   "language": "python",
   "name": "python3"
  },
  "language_info": {
   "codemirror_mode": {
    "name": "ipython",
    "version": 3
   },
   "file_extension": ".py",
   "mimetype": "text/x-python",
   "name": "python",
   "nbconvert_exporter": "python",
   "pygments_lexer": "ipython3",
   "version": "3.9.6"
  }
 },
 "nbformat": 4,
 "nbformat_minor": 2
}
